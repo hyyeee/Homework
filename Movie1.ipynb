{
  "nbformat": 4,
  "nbformat_minor": 0,
  "metadata": {
    "colab": {
      "provenance": [],
      "authorship_tag": "ABX9TyOiVEvOzaMYJA2Ro4tkg1hS",
      "include_colab_link": true
    },
    "kernelspec": {
      "name": "python3",
      "display_name": "Python 3"
    },
    "language_info": {
      "name": "python"
    }
  },
  "cells": [
    {
      "cell_type": "markdown",
      "metadata": {
        "id": "view-in-github",
        "colab_type": "text"
      },
      "source": [
        "<a href=\"https://colab.research.google.com/github/hyyeee/Homework/blob/main/Movie1.ipynb\" target=\"_parent\"><img src=\"https://colab.research.google.com/assets/colab-badge.svg\" alt=\"Open In Colab\"/></a>"
      ]
    },
    {
      "cell_type": "code",
      "execution_count": null,
      "metadata": {
        "id": "OebwHYm8wqFL"
      },
      "outputs": [],
      "source": [
        "import requests\n",
        "from bs4 import BeautifulSoup\n",
        "\n",
        "url = 'https://kobis.or.kr/kobisopenapi/webservice/rest/boxoffice/searchDailyBoxOfficeList.xml?key=e190ca4550a55a2b2ce7f1685e1b3694&targetDt=20240314'\n",
        "r = requests.get(url)\n",
        "print(r.text)"
      ]
    },
    {
      "cell_type": "code",
      "source": [
        "soup = BeautifulSoup(r.text, features=\"xml\")"
      ],
      "metadata": {
        "id": "3bMgXud42czy"
      },
      "execution_count": null,
      "outputs": []
    },
    {
      "cell_type": "code",
      "source": [
        "soup.find_all('movieNm')"
      ],
      "metadata": {
        "colab": {
          "base_uri": "https://localhost:8080/"
        },
        "id": "WMTrsMy62eKL",
        "outputId": "9495912a-90c3-44be-c329-4d03a1c71254"
      },
      "execution_count": null,
      "outputs": [
        {
          "output_type": "execute_result",
          "data": {
            "text/plain": [
              "[<movieNm>파묘</movieNm>,\n",
              " <movieNm>듄: 파트2</movieNm>,\n",
              " <movieNm>밥 말리: 원 러브</movieNm>,\n",
              " <movieNm>랜드 오브 배드</movieNm>,\n",
              " <movieNm>가여운 것들</movieNm>,\n",
              " <movieNm>패스트 라이브즈</movieNm>,\n",
              " <movieNm>메이 디셈버</movieNm>,\n",
              " <movieNm>건국전쟁</movieNm>,\n",
              " <movieNm>웡카</movieNm>,\n",
              " <movieNm>화녀</movieNm>]"
            ]
          },
          "metadata": {},
          "execution_count": 9
        }
      ]
    },
    {
      "cell_type": "code",
      "source": [
        "soup.find_all('audiCnt')"
      ],
      "metadata": {
        "colab": {
          "base_uri": "https://localhost:8080/"
        },
        "id": "fwjh-bxE23Hk",
        "outputId": "222817af-0259-403f-f5a2-b12554cfebb6"
      },
      "execution_count": null,
      "outputs": [
        {
          "output_type": "execute_result",
          "data": {
            "text/plain": [
              "[<audiCnt>105066</audiCnt>,\n",
              " <audiCnt>24491</audiCnt>,\n",
              " <audiCnt>4553</audiCnt>,\n",
              " <audiCnt>3962</audiCnt>,\n",
              " <audiCnt>3931</audiCnt>,\n",
              " <audiCnt>3134</audiCnt>,\n",
              " <audiCnt>2912</audiCnt>,\n",
              " <audiCnt>2217</audiCnt>,\n",
              " <audiCnt>2112</audiCnt>,\n",
              " <audiCnt>1887</audiCnt>]"
            ]
          },
          "metadata": {},
          "execution_count": 10
        }
      ]
    },
    {
      "cell_type": "code",
      "source": [
        "print('학번=' , 2370046, '이름 =', '이다혜')"
      ],
      "metadata": {
        "id": "jDkPgCxo3DU8",
        "outputId": "29ee6936-0039-4b70-c78f-fd8e5d38afdc",
        "colab": {
          "base_uri": "https://localhost:8080/"
        }
      },
      "execution_count": null,
      "outputs": [
        {
          "output_type": "stream",
          "name": "stdout",
          "text": [
            "학번= 2370046 이름 = 이다혜\n"
          ]
        }
      ]
    }
  ]
}