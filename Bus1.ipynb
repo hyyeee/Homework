{
  "nbformat": 4,
  "nbformat_minor": 0,
  "metadata": {
    "colab": {
      "provenance": [],
      "authorship_tag": "ABX9TyPT4X+/j1qvBX6D3RdCdesA",
      "include_colab_link": true
    },
    "kernelspec": {
      "name": "python3",
      "display_name": "Python 3"
    },
    "language_info": {
      "name": "python"
    }
  },
  "cells": [
    {
      "cell_type": "markdown",
      "metadata": {
        "id": "view-in-github",
        "colab_type": "text"
      },
      "source": [
        "<a href=\"https://colab.research.google.com/github/hyyeee/Homework/blob/main/Bus1.ipynb\" target=\"_parent\"><img src=\"https://colab.research.google.com/assets/colab-badge.svg\" alt=\"Open In Colab\"/></a>"
      ]
    },
    {
      "cell_type": "code",
      "execution_count": 3,
      "metadata": {
        "colab": {
          "base_uri": "https://localhost:8080/"
        },
        "id": "MW62ilkxtIZY",
        "outputId": "21aba46d-971e-4f42-eb9b-87a850556c23"
      },
      "outputs": [
        {
          "output_type": "stream",
          "name": "stdout",
          "text": [
            "<?xml version=\"1.0\" encoding=\"UTF-8\" standalone=\"yes\"?><response><comMsgHeader/><msgHeader><queryTime>2024-03-15 10:28:18.388</queryTime><resultCode>0</resultCode><resultMessage>정상적으로 처리되었습니다.</resultMessage></msgHeader><msgBody><busLocationList><endBus>0</endBus><lowPlate>0</lowPlate><plateNo>경기76아4823</plateNo><plateType>3</plateType><remainSeatCnt>27</remainSeatCnt><routeId>234001619</routeId><stationId>277103390</stationId><stationSeq>22</stationSeq></busLocationList><busLocationList><endBus>0</endBus><lowPlate>0</lowPlate><plateNo>경기76아4821</plateNo><plateType>3</plateType><remainSeatCnt>43</remainSeatCnt><routeId>234001619</routeId><stationId>277102621</stationId><stationSeq>43</stationSeq></busLocationList><busLocationList><endBus>0</endBus><lowPlate>0</lowPlate><plateNo>경기76아4819</plateNo><plateType>3</plateType><remainSeatCnt>38</remainSeatCnt><routeId>234001619</routeId><stationId>233003093</stationId><stationSeq>4</stationSeq></busLocationList></msgBody></response>\n"
          ]
        }
      ],
      "source": [
        "import requests\n",
        "url = 'http://openapi.gbis.go.kr/ws/rest/buslocationservice?serviceKey=1234567890&routeId=234001619'\n",
        "r = requests.get(url)\n",
        "print(r.text)"
      ]
    },
    {
      "cell_type": "code",
      "source": [
        "from bs4 import BeautifulSoup\n",
        "\n",
        "soup = BeautifulSoup(r.text, features=\"xml\")"
      ],
      "metadata": {
        "id": "xi9qs-D7uUu7"
      },
      "execution_count": 6,
      "outputs": []
    },
    {
      "cell_type": "code",
      "source": [
        "soup.find_all('stationId')"
      ],
      "metadata": {
        "colab": {
          "base_uri": "https://localhost:8080/"
        },
        "id": "2sZ7ltNHv4tK",
        "outputId": "76fbfb8f-c1c4-41f8-f2a1-3039c3278e8f"
      },
      "execution_count": 7,
      "outputs": [
        {
          "output_type": "execute_result",
          "data": {
            "text/plain": [
              "[<stationId>277103390</stationId>,\n",
              " <stationId>277102621</stationId>,\n",
              " <stationId>233003093</stationId>]"
            ]
          },
          "metadata": {},
          "execution_count": 7
        }
      ]
    },
    {
      "cell_type": "code",
      "source": [
        "print('학번=' , 2370046, '이름 =', '이다혜')"
      ],
      "metadata": {
        "colab": {
          "base_uri": "https://localhost:8080/"
        },
        "id": "ETx08-mcv6mv",
        "outputId": "7207fc45-7a85-4e5c-f07c-19ef4bd14c5c"
      },
      "execution_count": 8,
      "outputs": [
        {
          "output_type": "stream",
          "name": "stdout",
          "text": [
            "학번= 2370046 이름 = 이다혜\n"
          ]
        }
      ]
    }
  ]
}