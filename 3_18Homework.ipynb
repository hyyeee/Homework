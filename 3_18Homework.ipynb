{
  "nbformat": 4,
  "nbformat_minor": 0,
  "metadata": {
    "colab": {
      "provenance": [],
      "authorship_tag": "ABX9TyMRwqsUviAjTb8SporoPdDo",
      "include_colab_link": true
    },
    "kernelspec": {
      "name": "python3",
      "display_name": "Python 3"
    },
    "language_info": {
      "name": "python"
    }
  },
  "cells": [
    {
      "cell_type": "markdown",
      "metadata": {
        "id": "view-in-github",
        "colab_type": "text"
      },
      "source": [
        "<a href=\"https://colab.research.google.com/github/hyyeee/Homework/blob/main/3_18Homework.ipynb\" target=\"_parent\"><img src=\"https://colab.research.google.com/assets/colab-badge.svg\" alt=\"Open In Colab\"/></a>"
      ]
    },
    {
      "cell_type": "code",
      "execution_count": 5,
      "metadata": {
        "colab": {
          "base_uri": "https://localhost:8080/"
        },
        "id": "UWFrq0aBV7CK",
        "outputId": "cd4602c7-a017-43f5-ce5b-143be001628b"
      },
      "outputs": [
        {
          "output_type": "stream",
          "name": "stdout",
          "text": [
            "b'<?xml version=\"1.0\" encoding=\"UTF-8\" standalone=\"yes\"?><response><header><resultCode>00</resultCode><resultMsg>NORMAL SERVICE.</resultMsg></header><body><items><item><btnc>Lindernia dubia (L.) Pennell var. anagallidea (Michx.) Cooperr.</btnc><cprtCtnt>\\xeb\\xb3\\xb8 \\xeb\\x8d\\xb0\\xec\\x9d\\xb4\\xed\\x84\\xb0\\xec\\x97\\x90 \\xeb\\x8c\\x80\\xed\\x95\\x9c \\xeb\\xaa\\xa8\\xeb\\x93\\xa0 \\xec\\xa0\\x80\\xec\\x9e\\x91\\xea\\xb6\\x8c\\xeb\\xa6\\xac\\xeb\\x8a\\x94 \\xea\\xb5\\xad\\xeb\\xa6\\xbd\\xec\\x88\\x98\\xeb\\xaa\\xa9\\xec\\x9b\\x90 \\xeb\\x98\\x90\\xeb\\x8a\\x94 \\xec\\x9b\\x90\\xec\\xa0\\x80\\xec\\x9e\\x91\\xec\\x9e\\x90\\xec\\x97\\x90\\xea\\xb2\\x8c \\xec\\x9e\\x88\\xec\\x8a\\xb5\\xeb\\x8b\\x88\\xeb\\x8b\\xa4.</cprtCtnt><extcPlantCdNm>\\xea\\xb7\\x80\\xed\\x99\\x94\\xec\\x8b\\x9d\\xeb\\xac\\xbc</extcPlantCdNm><fmlyKor>\\xed\\x98\\x84\\xec\\x82\\xbc\\xea\\xb3\\xbc</fmlyKor><fmlyNm>Scrophulariaceae</fmlyNm><frstRgstnDtm>2012-10-30 11:23:22</frstRgstnDtm><gnusKor>\\xeb\\xb0\\xad\\xeb\\x9a\\x9d\\xec\\x99\\xb8\\xed\\x92\\x80\\xec\\x86\\x8d</gnusKor><gnusNm>Lindernia</gnusNm><imgUrl>/fileUpload/plants/basic/Scrophulariaceae/Lindernia/2459/2459_20230731143306306files.jpg</imgUrl><korNm>\\xea\\xb0\\x80\\xeb\\x8a\\x94\\xeb\\xaf\\xb8\\xea\\xb5\\xad\\xec\\x99\\xb8\\xed\\x92\\x80</korNm><lastUpdtDtm>2023-02-21 08:14:38</lastUpdtDtm><ntrlzEraTpcdNm>\\xeb\\xb6\\x84\\xeb\\x8b\\xa8\\xec\\x9d\\xb4\\xed\\x9b\\x84(1945\\xeb\\x85\\x84 \\xec\\x9d\\xb4\\xed\\x9b\\x84)</ntrlzEraTpcdNm><plantSpecsId>P000000856</plantSpecsId></item><item><btnc>Bidens frondosa L.</btnc><cprtCtnt>\\xeb\\xb3\\xb8 \\xeb\\x8d\\xb0\\xec\\x9d\\xb4\\xed\\x84\\xb0\\xec\\x97\\x90 \\xeb\\x8c\\x80\\xed\\x95\\x9c \\xeb\\xaa\\xa8\\xeb\\x93\\xa0 \\xec\\xa0\\x80\\xec\\x9e\\x91\\xea\\xb6\\x8c\\xeb\\xa6\\xac\\xeb\\x8a\\x94 \\xea\\xb5\\xad\\xeb\\xa6\\xbd\\xec\\x88\\x98\\xeb\\xaa\\xa9\\xec\\x9b\\x90 \\xeb\\x98\\x90\\xeb\\x8a\\x94 \\xec\\x9b\\x90\\xec\\xa0\\x80\\xec\\x9e\\x91\\xec\\x9e\\x90\\xec\\x97\\x90\\xea\\xb2\\x8c \\xec\\x9e\\x88\\xec\\x8a\\xb5\\xeb\\x8b\\x88\\xeb\\x8b\\xa4.</cprtCtnt><extcPlantCdNm>\\xea\\xb7\\x80\\xed\\x99\\x94\\xec\\x8b\\x9d\\xeb\\xac\\xbc</extcPlantCdNm><fmlyKor>\\xea\\xb5\\xad\\xed\\x99\\x94\\xea\\xb3\\xbc</fmlyKor><fmlyNm>Asteraceae</fmlyNm><frstRgstnDtm>2012-10-30 11:23:22</frstRgstnDtm><gnusKor>\\xeb\\x8f\\x84\\xea\\xb9\\xa8\\xeb\\xb9\\x84\\xeb\\xb0\\x94\\xeb\\x8a\\x98\\xec\\x86\\x8d</gnusKor><gnusNm>Bidens</gnusNm><imgUrl>/fileUpload/plants/basic/Asteraceae/Bidens/P000003693/P000003693_202205_1.jpg</imgUrl><korNm>\\xeb\\xaf\\xb8\\xea\\xb5\\xad\\xea\\xb0\\x80\\xeb\\xa7\\x89\\xec\\x82\\xac\\xeb\\xa6\\xac</korNm><lastUpdtDtm>2024-02-19 09:00:55</lastUpdtDtm><ntrlzEraTpcdNm>\\xeb\\xb6\\x84\\xeb\\x8b\\xa8\\xec\\x9d\\xb4\\xed\\x9b\\x84(1945\\xeb\\x85\\x84 \\xec\\x9d\\xb4\\xed\\x9b\\x84)</ntrlzEraTpcdNm><plantSpecsId>P000003693</plantSpecsId></item><item><btnc>Panicum dichotomiflorum Michx.</btnc><cprtCtnt>\\xeb\\xb3\\xb8 \\xeb\\x8d\\xb0\\xec\\x9d\\xb4\\xed\\x84\\xb0\\xec\\x97\\x90 \\xeb\\x8c\\x80\\xed\\x95\\x9c \\xeb\\xaa\\xa8\\xeb\\x93\\xa0 \\xec\\xa0\\x80\\xec\\x9e\\x91\\xea\\xb6\\x8c\\xeb\\xa6\\xac\\xeb\\x8a\\x94 \\xea\\xb5\\xad\\xeb\\xa6\\xbd\\xec\\x88\\x98\\xeb\\xaa\\xa9\\xec\\x9b\\x90 \\xeb\\x98\\x90\\xeb\\x8a\\x94 \\xec\\x9b\\x90\\xec\\xa0\\x80\\xec\\x9e\\x91\\xec\\x9e\\x90\\xec\\x97\\x90\\xea\\xb2\\x8c \\xec\\x9e\\x88\\xec\\x8a\\xb5\\xeb\\x8b\\x88\\xeb\\x8b\\xa4.</cprtCtnt><extcPlantCdNm>\\xea\\xb7\\x80\\xed\\x99\\x94\\xec\\x8b\\x9d\\xeb\\xac\\xbc</extcPlantCdNm><fmlyKor>\\xeb\\xb2\\xbc\\xea\\xb3\\xbc</fmlyKor><fmlyNm>Poaceae</fmlyNm><frstRgstnDtm>2012-10-30 11:23:22</frstRgstnDtm><gnusKor>\\xea\\xb8\\xb0\\xec\\x9e\\xa5\\xec\\x86\\x8d</gnusKor><gnusNm>Panicum</gnusNm><imgUrl>/fileUpload/plants/basic/Poaceae/Panicum/14612/14612_20231004150231984files.jpg</imgUrl><korNm>\\xeb\\xaf\\xb8\\xea\\xb5\\xad\\xea\\xb0\\x9c\\xea\\xb8\\xb0\\xec\\x9e\\xa5</korNm><lastUpdtDtm>2024-02-19 09:00:55</lastUpdtDtm><ntrlzEraTpcdNm>\\xeb\\xb6\\x84\\xeb\\x8b\\xa8\\xec\\x9d\\xb4\\xed\\x9b\\x84(1945\\xeb\\x85\\x84 \\xec\\x9d\\xb4\\xed\\x9b\\x84)</ntrlzEraTpcdNm><plantSpecsId>P000004825</plantSpecsId></item><item><btnc>Polygonum ramosissimum Michx.</btnc><cprtCtnt>\\xeb\\xb3\\xb8 \\xeb\\x8d\\xb0\\xec\\x9d\\xb4\\xed\\x84\\xb0\\xec\\x97\\x90 \\xeb\\x8c\\x80\\xed\\x95\\x9c \\xeb\\xaa\\xa8\\xeb\\x93\\xa0 \\xec\\xa0\\x80\\xec\\x9e\\x91\\xea\\xb6\\x8c\\xeb\\xa6\\xac\\xeb\\x8a\\x94 \\xea\\xb5\\xad\\xeb\\xa6\\xbd\\xec\\x88\\x98\\xeb\\xaa\\xa9\\xec\\x9b\\x90 \\xeb\\x98\\x90\\xeb\\x8a\\x94 \\xec\\x9b\\x90\\xec\\xa0\\x80\\xec\\x9e\\x91\\xec\\x9e\\x90\\xec\\x97\\x90\\xea\\xb2\\x8c \\xec\\x9e\\x88\\xec\\x8a\\xb5\\xeb\\x8b\\x88\\xeb\\x8b\\xa4.</cprtCtnt><extcPlantCdNm>\\xec\\x9e\\x84\\xec\\x8b\\x9c\\xec\\xa0\\x95\\xec\\xb0\\xa9\\xec\\x8b\\x9d\\xeb\\xac\\xbc</extcPlantCdNm><fmlyKor>\\xeb\\xa7\\x88\\xeb\\x94\\x94\\xed\\x92\\x80\\xea\\xb3\\xbc</fmlyKor><fmlyNm>Polygonaceae</fmlyNm><frstRgstnDtm>2023-02-21 08:14:38</frstRgstnDtm><gnusKor>\\xeb\\xa7\\x88\\xeb\\x94\\x94\\xed\\x92\\x80\\xec\\x86\\x8d</gnusKor><gnusNm>Polygonum</gnusNm><korNm>\\xeb\\xaf\\xb8\\xea\\xb5\\xad\\xea\\xb0\\xaf\\xeb\\xa7\\x88\\xeb\\x94\\x94\\xed\\x92\\x80</korNm><lastUpdtDtm> </lastUpdtDtm><ntrlzEraTpcdNm>\\xeb\\xb6\\x84\\xeb\\x8b\\xa8\\xec\\x9d\\xb4\\xed\\x9b\\x84(1945\\xeb\\x85\\x84 \\xec\\x9d\\xb4\\xed\\x9b\\x84)</ntrlzEraTpcdNm><plantSpecsId>P000051886</plantSpecsId></item><item><btnc>Solanum americanum Mill.</btnc><cprtCtnt>\\xeb\\xb3\\xb8 \\xeb\\x8d\\xb0\\xec\\x9d\\xb4\\xed\\x84\\xb0\\xec\\x97\\x90 \\xeb\\x8c\\x80\\xed\\x95\\x9c \\xeb\\xaa\\xa8\\xeb\\x93\\xa0 \\xec\\xa0\\x80\\xec\\x9e\\x91\\xea\\xb6\\x8c\\xeb\\xa6\\xac\\xeb\\x8a\\x94 \\xea\\xb5\\xad\\xeb\\xa6\\xbd\\xec\\x88\\x98\\xeb\\xaa\\xa9\\xec\\x9b\\x90 \\xeb\\x98\\x90\\xeb\\x8a\\x94 \\xec\\x9b\\x90\\xec\\xa0\\x80\\xec\\x9e\\x91\\xec\\x9e\\x90\\xec\\x97\\x90\\xea\\xb2\\x8c \\xec\\x9e\\x88\\xec\\x8a\\xb5\\xeb\\x8b\\x88\\xeb\\x8b\\xa4.</cprtCtnt><extcPlantCdNm>\\xea\\xb7\\x80\\xed\\x99\\x94\\xec\\x8b\\x9d\\xeb\\xac\\xbc</extcPlantCdNm><fmlyKor>\\xea\\xb0\\x80\\xec\\xa7\\x80\\xea\\xb3\\xbc</fmlyKor><fmlyNm>Solanaceae</fmlyNm><frstRgstnDtm>2012-10-30 11:23:22</frstRgstnDtm><gnusKor>\\xea\\xb0\\x80\\xec\\xa7\\x80\\xec\\x86\\x8d</gnusKor><gnusNm>Solanum</gnusNm><imgUrl>/fileUpload/plants/basic/Solanaceae/Solanum/P000000849/P000000849_202205_1.jpg</imgUrl><korNm>\\xeb\\xaf\\xb8\\xea\\xb5\\xad\\xea\\xb9\\x8c\\xeb\\xa7\\x88\\xec\\xa4\\x91</korNm><lastUpdtDtm>2024-02-19 09:00:55</lastUpdtDtm><ntrlzEraTpcdNm>\\xeb\\xb6\\x84\\xeb\\x8b\\xa8\\xec\\x9d\\xb4\\xed\\x9b\\x84(1945\\xeb\\x85\\x84 \\xec\\x9d\\xb4\\xed\\x9b\\x84)</ntrlzEraTpcdNm><plantSpecsId>P000000849</plantSpecsId></item><item><btnc>Amsinckia lycopsoides Lindl. ex Lehm.</btnc><cprtCtnt>\\xeb\\xb3\\xb8 \\xeb\\x8d\\xb0\\xec\\x9d\\xb4\\xed\\x84\\xb0\\xec\\x97\\x90 \\xeb\\x8c\\x80\\xed\\x95\\x9c \\xeb\\xaa\\xa8\\xeb\\x93\\xa0 \\xec\\xa0\\x80\\xec\\x9e\\x91\\xea\\xb6\\x8c\\xeb\\xa6\\xac\\xeb\\x8a\\x94 \\xea\\xb5\\xad\\xeb\\xa6\\xbd\\xec\\x88\\x98\\xeb\\xaa\\xa9\\xec\\x9b\\x90 \\xeb\\x98\\x90\\xeb\\x8a\\x94 \\xec\\x9b\\x90\\xec\\xa0\\x80\\xec\\x9e\\x91\\xec\\x9e\\x90\\xec\\x97\\x90\\xea\\xb2\\x8c \\xec\\x9e\\x88\\xec\\x8a\\xb5\\xeb\\x8b\\x88\\xeb\\x8b\\xa4.</cprtCtnt><extcPlantCdNm>\\xeb\\xb6\\x88\\xed\\x99\\x95\\xec\\x8b\\xa4\\xec\\xa2\\x85</extcPlantCdNm><fmlyKor>\\xec\\xa7\\x80\\xec\\xb9\\x98\\xea\\xb3\\xbc</fmlyKor><fmlyNm>Boraginaceae</fmlyNm><frstRgstnDtm>2012-10-30 11:23:22</frstRgstnDtm><gnusKor>\\xeb\\xaf\\xb8\\xea\\xb5\\xad\\xea\\xbd\\x83\\xeb\\xa7\\x90\\xec\\x9d\\xb4\\xec\\x86\\x8d</gnusKor><gnusNm>Amsinckia</gnusNm><korNm>\\xeb\\xaf\\xb8\\xea\\xb5\\xad\\xea\\xbd\\x83\\xeb\\xa7\\x90\\xec\\x9d\\xb4</korNm><lastUpdtDtm>2023-02-21 08:14:38</lastUpdtDtm><ntrlzEraTpcdNm>\\xeb\\xb6\\x84\\xeb\\x8b\\xa8\\xec\\x9d\\xb4\\xed\\x9b\\x84(1945\\xeb\\x85\\x84 \\xec\\x9d\\xb4\\xed\\x9b\\x84)</ntrlzEraTpcdNm><plantSpecsId>P000000839</plantSpecsId></item><item><btnc>Ipomoea hederacea Jacq.</btnc><cprtCtnt>\\xeb\\xb3\\xb8 \\xeb\\x8d\\xb0\\xec\\x9d\\xb4\\xed\\x84\\xb0\\xec\\x97\\x90 \\xeb\\x8c\\x80\\xed\\x95\\x9c \\xeb\\xaa\\xa8\\xeb\\x93\\xa0 \\xec\\xa0\\x80\\xec\\x9e\\x91\\xea\\xb6\\x8c\\xeb\\xa6\\xac\\xeb\\x8a\\x94 \\xea\\xb5\\xad\\xeb\\xa6\\xbd\\xec\\x88\\x98\\xeb\\xaa\\xa9\\xec\\x9b\\x90 \\xeb\\x98\\x90\\xeb\\x8a\\x94 \\xec\\x9b\\x90\\xec\\xa0\\x80\\xec\\x9e\\x91\\xec\\x9e\\x90\\xec\\x97\\x90\\xea\\xb2\\x8c \\xec\\x9e\\x88\\xec\\x8a\\xb5\\xeb\\x8b\\x88\\xeb\\x8b\\xa4.</cprtCtnt><extcPlantCdNm>\\xea\\xb7\\x80\\xed\\x99\\x94\\xec\\x8b\\x9d\\xeb\\xac\\xbc</extcPlantCdNm><fmlyKor>\\xeb\\xa9\\x94\\xea\\xbd\\x83\\xea\\xb3\\xbc</fmlyKor><fmlyNm>Convolvulaceae</fmlyNm><frstRgstnDtm>2023-02-21 08:14:38</frstRgstnDtm><gnusKor>\\xeb\\x82\\x98\\xed\\x8c\\x94\\xea\\xbd\\x83\\xec\\x86\\x8d</gnusKor><gnusNm>Ipomoea</gnusNm><korNm>\\xeb\\xaf\\xb8\\xea\\xb5\\xad\\xeb\\x82\\x98\\xed\\x8c\\x94\\xea\\xbd\\x83</korNm><lastUpdtDtm>2024-02-19 09:00:55</lastUpdtDtm><ntrlzEraTpcdNm>\\xeb\\xb6\\x84\\xeb\\x8b\\xa8\\xec\\x9d\\xb4\\xed\\x9b\\x84(1945\\xeb\\x85\\x84 \\xec\\x9d\\xb4\\xed\\x9b\\x84)</ntrlzEraTpcdNm><plantSpecsId>P000017255</plantSpecsId></item><item><btnc>Veronica americana (Raf.) Schwein. ex Benth.</btnc><cprtCtnt>\\xeb\\xb3\\xb8 \\xeb\\x8d\\xb0\\xec\\x9d\\xb4\\xed\\x84\\xb0\\xec\\x97\\x90 \\xeb\\x8c\\x80\\xed\\x95\\x9c \\xeb\\xaa\\xa8\\xeb\\x93\\xa0 \\xec\\xa0\\x80\\xec\\x9e\\x91\\xea\\xb6\\x8c\\xeb\\xa6\\xac\\xeb\\x8a\\x94 \\xea\\xb5\\xad\\xeb\\xa6\\xbd\\xec\\x88\\x98\\xeb\\xaa\\xa9\\xec\\x9b\\x90 \\xeb\\x98\\x90\\xeb\\x8a\\x94 \\xec\\x9b\\x90\\xec\\xa0\\x80\\xec\\x9e\\x91\\xec\\x9e\\x90\\xec\\x97\\x90\\xea\\xb2\\x8c \\xec\\x9e\\x88\\xec\\x8a\\xb5\\xeb\\x8b\\x88\\xeb\\x8b\\xa4.</cprtCtnt><extcPlantCdNm>\\xea\\xb7\\x80\\xed\\x99\\x94\\xec\\x8b\\x9d\\xeb\\xac\\xbc</extcPlantCdNm><fmlyKor>\\xed\\x98\\x84\\xec\\x82\\xbc\\xea\\xb3\\xbc</fmlyKor><fmlyNm>Scrophulariaceae</fmlyNm><frstRgstnDtm>2012-10-30 11:23:22</frstRgstnDtm><gnusKor>\\xea\\xb0\\x9c\\xeb\\xb6\\x88\\xec\\x95\\x8c\\xed\\x92\\x80\\xec\\x86\\x8d</gnusKor><gnusNm>Veronica</gnusNm><imgUrl>/fileUpload/plants/basic/Scrophulariaceae/Veronica/2463/2463_20231010110011292files.jpg</imgUrl><korNm>\\xeb\\xaf\\xb8\\xea\\xb5\\xad\\xeb\\xac\\xbc\\xec\\xb9\\xad\\xea\\xb0\\x9c</korNm><lastUpdtDtm>2024-02-19 09:00:55</lastUpdtDtm><ntrlzEraTpcdNm>\\xeb\\xb6\\x84\\xeb\\x8b\\xa8\\xec\\x9d\\xb4\\xed\\x9b\\x84(1945\\xeb\\x85\\x84 \\xec\\x9d\\xb4\\xed\\x9b\\x84)</ntrlzEraTpcdNm><plantSpecsId>P000000859</plantSpecsId></item><item><btnc>Amaranthus albus L.</btnc><cprtCtnt>\\xeb\\xb3\\xb8 \\xeb\\x8d\\xb0\\xec\\x9d\\xb4\\xed\\x84\\xb0\\xec\\x97\\x90 \\xeb\\x8c\\x80\\xed\\x95\\x9c \\xeb\\xaa\\xa8\\xeb\\x93\\xa0 \\xec\\xa0\\x80\\xec\\x9e\\x91\\xea\\xb6\\x8c\\xeb\\xa6\\xac\\xeb\\x8a\\x94 \\xea\\xb5\\xad\\xeb\\xa6\\xbd\\xec\\x88\\x98\\xeb\\xaa\\xa9\\xec\\x9b\\x90 \\xeb\\x98\\x90\\xeb\\x8a\\x94 \\xec\\x9b\\x90\\xec\\xa0\\x80\\xec\\x9e\\x91\\xec\\x9e\\x90\\xec\\x97\\x90\\xea\\xb2\\x8c \\xec\\x9e\\x88\\xec\\x8a\\xb5\\xeb\\x8b\\x88\\xeb\\x8b\\xa4.</cprtCtnt><extcPlantCdNm>\\xeb\\xb6\\x88\\xed\\x99\\x95\\xec\\x8b\\xa4\\xec\\xa2\\x85</extcPlantCdNm><fmlyKor>\\xeb\\xb9\\x84\\xeb\\xa6\\x84\\xea\\xb3\\xbc</fmlyKor><fmlyNm>Amaranthaceae</fmlyNm><frstRgstnDtm>2012-10-30 11:23:22</frstRgstnDtm><gnusKor>\\xeb\\xb9\\x84\\xeb\\xa6\\x84\\xec\\x86\\x8d</gnusKor><gnusNm>Amaranthus</gnusNm><korNm>\\xeb\\xaf\\xb8\\xea\\xb5\\xad\\xeb\\xb9\\x84\\xeb\\xa6\\x84</korNm><lastUpdtDtm>2023-02-21 08:14:38</lastUpdtDtm><ntrlzEraTpcdNm>\\xeb\\xb6\\x84\\xeb\\x8b\\xa8\\xec\\x9d\\xb4\\xed\\x9b\\x84(1945\\xeb\\x85\\x84 \\xec\\x9d\\xb4\\xed\\x9b\\x84)</ntrlzEraTpcdNm><plantSpecsId>P000000599</plantSpecsId></item><item><btnc>Carex hirsutella Mack.</btnc><cprtCtnt>\\xeb\\xb3\\xb8 \\xeb\\x8d\\xb0\\xec\\x9d\\xb4\\xed\\x84\\xb0\\xec\\x97\\x90 \\xeb\\x8c\\x80\\xed\\x95\\x9c \\xeb\\xaa\\xa8\\xeb\\x93\\xa0 \\xec\\xa0\\x80\\xec\\x9e\\x91\\xea\\xb6\\x8c\\xeb\\xa6\\xac\\xeb\\x8a\\x94 \\xea\\xb5\\xad\\xeb\\xa6\\xbd\\xec\\x88\\x98\\xeb\\xaa\\xa9\\xec\\x9b\\x90 \\xeb\\x98\\x90\\xeb\\x8a\\x94 \\xec\\x9b\\x90\\xec\\xa0\\x80\\xec\\x9e\\x91\\xec\\x9e\\x90\\xec\\x97\\x90\\xea\\xb2\\x8c \\xec\\x9e\\x88\\xec\\x8a\\xb5\\xeb\\x8b\\x88\\xeb\\x8b\\xa4.</cprtCtnt><extcPlantCdNm>\\xec\\x9e\\x84\\xec\\x8b\\x9c\\xec\\xa0\\x95\\xec\\xb0\\xa9\\xec\\x8b\\x9d\\xeb\\xac\\xbc</extcPlantCdNm><fmlyKor>\\xec\\x82\\xac\\xec\\xb4\\x88\\xea\\xb3\\xbc</fmlyKor><fmlyNm>Cyperaceae</fmlyNm><frstRgstnDtm>2023-02-21 08:14:38</frstRgstnDtm><gnusKor>\\xec\\x82\\xac\\xec\\xb4\\x88\\xec\\x86\\x8d</gnusKor><gnusNm>Carex</gnusNm><imgUrl>/fileUpload/plants/basic/Cyperaceae/Carex/P000051529/P000051529_202205_1.jpg</imgUrl><korNm>\\xeb\\xaf\\xb8\\xea\\xb5\\xad\\xec\\x82\\xb0\\xec\\x82\\xac\\xec\\xb4\\x88</korNm><lastUpdtDtm> </lastUpdtDtm><ntrlzEraTpcdNm>\\xeb\\xb6\\x84\\xeb\\x8b\\xa8\\xec\\x9d\\xb4\\xed\\x9b\\x84(1945\\xeb\\x85\\x84 \\xec\\x9d\\xb4\\xed\\x9b\\x84)</ntrlzEraTpcdNm><plantSpecsId>P000051529</plantSpecsId></item></items><numOfRows>10</numOfRows><pageNo>1</pageNo><totalCount>22</totalCount></body></response>'\n"
          ]
        }
      ],
      "source": [
        "import requests\n",
        "\n",
        "url = 'http://openapi.nature.go.kr/openapi/service/rest/PlantService/naturalizedSearch2'\n",
        "params ={'serviceKey' : 'Af%2BzH%2Fu4k6FF5qMDBB%2FxEQSBf5Tm%2BW8r38XI3BkBQydLKKSq%2B%2FPMVr6e40GOoUqDuyJ6b70QklC3AUz7FnjrXg%3D%3D', 'st' : '1', 'sw' : '미국', 'dateGbn' : '', 'dateFrom' : '', 'dateTo' : '', 'numOfRows' : '10', 'pageNo' : '1' }\n",
        "\n",
        "response = requests.get(url, params=params)\n",
        "print(response.content)"
      ]
    },
    {
      "cell_type": "code",
      "source": [
        "soup = BeautifulSoup(response.content, features=\"xml\")"
      ],
      "metadata": {
        "id": "6DHlKm8S0bWp"
      },
      "execution_count": 13,
      "outputs": []
    },
    {
      "cell_type": "code",
      "source": [
        "soup.find_all('gnusKor')"
      ],
      "metadata": {
        "colab": {
          "base_uri": "https://localhost:8080/"
        },
        "id": "a0DRIObJ0kOZ",
        "outputId": "4fc7d086-b111-41fc-b64c-6790820c124e"
      },
      "execution_count": 14,
      "outputs": [
        {
          "output_type": "execute_result",
          "data": {
            "text/plain": [
              "[<gnusKor>밭뚝외풀속</gnusKor>,\n",
              " <gnusKor>도깨비바늘속</gnusKor>,\n",
              " <gnusKor>기장속</gnusKor>,\n",
              " <gnusKor>마디풀속</gnusKor>,\n",
              " <gnusKor>가지속</gnusKor>,\n",
              " <gnusKor>미국꽃말이속</gnusKor>,\n",
              " <gnusKor>나팔꽃속</gnusKor>,\n",
              " <gnusKor>개불알풀속</gnusKor>,\n",
              " <gnusKor>비름속</gnusKor>,\n",
              " <gnusKor>사초속</gnusKor>]"
            ]
          },
          "metadata": {},
          "execution_count": 14
        }
      ]
    },
    {
      "cell_type": "code",
      "source": [
        "soup.find_all('plantSpecsId')"
      ],
      "metadata": {
        "colab": {
          "base_uri": "https://localhost:8080/"
        },
        "id": "7QsxjTXq05FA",
        "outputId": "84506650-5bbc-4511-8bc1-9ca55996e20f"
      },
      "execution_count": 17,
      "outputs": [
        {
          "output_type": "execute_result",
          "data": {
            "text/plain": [
              "[<plantSpecsId>P000000856</plantSpecsId>,\n",
              " <plantSpecsId>P000003693</plantSpecsId>,\n",
              " <plantSpecsId>P000004825</plantSpecsId>,\n",
              " <plantSpecsId>P000051886</plantSpecsId>,\n",
              " <plantSpecsId>P000000849</plantSpecsId>,\n",
              " <plantSpecsId>P000000839</plantSpecsId>,\n",
              " <plantSpecsId>P000017255</plantSpecsId>,\n",
              " <plantSpecsId>P000000859</plantSpecsId>,\n",
              " <plantSpecsId>P000000599</plantSpecsId>,\n",
              " <plantSpecsId>P000051529</plantSpecsId>]"
            ]
          },
          "metadata": {},
          "execution_count": 17
        }
      ]
    },
    {
      "cell_type": "code",
      "source": [
        "print('학번=' , 2370046, '이름 =', '이다혜')"
      ],
      "metadata": {
        "colab": {
          "base_uri": "https://localhost:8080/"
        },
        "id": "k-UWPUcr1AtA",
        "outputId": "7f7fb608-e4d2-444d-b744-0bd01e556bc9"
      },
      "execution_count": 16,
      "outputs": [
        {
          "output_type": "stream",
          "name": "stdout",
          "text": [
            "학번= 2370046 이름 = 이다혜\n"
          ]
        }
      ]
    }
  ]
}